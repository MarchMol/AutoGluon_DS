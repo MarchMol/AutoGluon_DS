{
 "cells": [
  {
   "cell_type": "markdown",
   "id": "9e721905",
   "metadata": {},
   "source": [
    "# Laboratorio 7: \n",
    "## Predicción de Diabetes con AutoGluon \n",
    "- Descripción:\n",
    "El objetivo de este ejercicio es construir, entrenar y evaluar un modelo clasificador para predecir diabetes en pacientes usando AutoGluon. Además de la práctica técnica, se busca reflexionar sobre las ventajas, limitaciones y aplicaciones del AutoML en problemas del mundo real, especialmente en contextos de salud donde la interpretación y confiabilidad de los resultados son fundamentales.\n",
    "\n",
    "**Autores:**  \n",
    "- José Rodrigo Marchena – 22398  \n",
    "- Sofía Velasquez – 22049  \n"
   ]
  },
  {
   "cell_type": "code",
   "execution_count": null,
   "id": "e8033410",
   "metadata": {
    "vscode": {
     "languageId": "plaintext"
    }
   },
   "outputs": [],
   "source": []
  }
 ],
 "metadata": {
  "language_info": {
   "name": "python"
  }
 },
 "nbformat": 4,
 "nbformat_minor": 5
}
